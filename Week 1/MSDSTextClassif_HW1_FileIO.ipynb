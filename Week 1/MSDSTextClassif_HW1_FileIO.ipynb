{
  "nbformat": 4,
  "nbformat_minor": 0,
  "metadata": {
    "colab": {
      "provenance": [],
      "include_colab_link": true
    },
    "kernelspec": {
      "name": "python3",
      "display_name": "Python 3"
    },
    "language_info": {
      "name": "python"
    }
  },
  "cells": [
    {
      "cell_type": "markdown",
      "metadata": {
        "id": "view-in-github",
        "colab_type": "text"
      },
      "source": [
        "<a href=\"https://colab.research.google.com/github/lruizarce/TextClassification/blob/main/MSDSTextClassif_HW1_FileIO.ipynb\" target=\"_parent\"><img src=\"https://colab.research.google.com/assets/colab-badge.svg\" alt=\"Open In Colab\"/></a>"
      ]
    },
    {
      "cell_type": "markdown",
      "source": [
        "# MSDS Text Classification. Assignment #1: File I/O"
      ],
      "metadata": {
        "id": "OZXgMDSSqwy6"
      }
    },
    {
      "cell_type": "markdown",
      "source": [
        "## ⚡️ Make a Copy\n",
        "\n",
        "Save a copy of this notebook in your Google Drive before continuing. Be sure to edit your own copy, not the original notebook."
      ],
      "metadata": {
        "id": "MYnVJeSz3Qhf"
      }
    },
    {
      "cell_type": "markdown",
      "source": [
        "## Overview"
      ],
      "metadata": {
        "id": "Xyl4i-xLrSJY"
      }
    },
    {
      "cell_type": "markdown",
      "source": [
        "### 🐍 Python is required for this course"
      ],
      "metadata": {
        "id": "yZU03hRGrWB7"
      }
    },
    {
      "cell_type": "markdown",
      "source": [
        "Some programming background, and general familiarity with Python syntax is expected in this course. For a condensed Python review, take a look at the [Python review notebook](https://drive.google.com/file/d/17WGK_Exij4_N3k--CKok3y8ZqE1ZsCqW/view?usp=sharing)."
      ],
      "metadata": {
        "id": "Wjgu0c7-q-id"
      }
    },
    {
      "cell_type": "markdown",
      "source": [
        "### 🎓 Assessing your current abilities"
      ],
      "metadata": {
        "id": "8ljyshfnreNg"
      }
    },
    {
      "cell_type": "markdown",
      "source": [
        "This assignment and Assignment #2 are designed to quickly assess your preparedness for moving forward in the course. Some students will find these assignments to be easy. **Many of you will find them to be challenging** and should plan your time accordingly. Generally, you should find both Assignment #1 and #2 to be doable, and if not then you should take a step back to review.\n",
        "\n",
        "\n",
        "> ⚠️  If the work below is difficult for you, then you will want to be absolutely certain to go through the Python review materials before moving forward."
      ],
      "metadata": {
        "id": "uQjVUT4QsWcV"
      }
    },
    {
      "cell_type": "markdown",
      "source": [
        "### ☑️ Skill checks"
      ],
      "metadata": {
        "id": "4uPCsJ4UswiD"
      }
    },
    {
      "cell_type": "markdown",
      "source": [
        "Besides general familiarity with Python syntax, the problems here and in Assignment #2 will assess your following abilities: \n",
        "\n",
        " * Write basic Python functions that meet specified requirements\n",
        " * Load data from files in your Google Drive account\n",
        " * Work with and manipulate Python data structures, particularly lists and dictionaries\n",
        " * Use Python control-flow constructs, particularly for-loops and if-statements\n",
        " * Manipulate Python strings\n",
        "\n"
      ],
      "metadata": {
        "id": "najjSBcMcLxb"
      }
    },
    {
      "cell_type": "markdown",
      "source": [
        "### 📝 Completing the assignment"
      ],
      "metadata": {
        "id": "sYkQTMJItz-i"
      }
    },
    {
      "cell_type": "markdown",
      "source": [
        "There is a function definition below for you to complete. You will need to write the code to meet the function specifications, and submit the .py version of this notebook to the grader."
      ],
      "metadata": {
        "id": "lFeDG82Ct5vF"
      }
    },
    {
      "cell_type": "markdown",
      "source": [
        "> **⚠️  Don't code outside the lines.** Keep your function implementation code inside the function blocks. Be sure not to write any code above the `/autorade` delimiter other than the specified function code. Any experimentation or testing code should go below the `/autograde` indicator, and will be ignored by the grader."
      ],
      "metadata": {
        "id": "9mcZZUFIul4P"
      }
    },
    {
      "cell_type": "markdown",
      "source": [
        "## 📁 Getting the data files"
      ],
      "metadata": {
        "id": "jz229ukiwK9l"
      }
    },
    {
      "cell_type": "markdown",
      "source": [
        "This assignment, and upcoming lab and project work in this course will make use of a [News category dataset](https://www.kaggle.com/rmisra/news-category-dataset) made available through Kaggle.\n",
        "\n",
        "> **💡  JSON vs JSON-L.** Although Kaggle data file has a \".json\" file name, it is actually a JSON-L file, which is of the format of one JSON document per line in the file. This has implications for how you load the data. You will practice loading both file types in this assignment.\n",
        "\n",
        "\n",
        "**We have made some alternative versions of this file available** in the course assets for use in this assignment and the upcoming labs and project so you can experience working with different data file types.\n",
        "\n",
        "\n",
        "### Uncompressed copy of just 1 data line\n",
        "\n",
        "**News_Category_Dataset_v2.1**\n",
        "\n",
        "What do you get if you take just a single line from a json-L file? You've got just a regular JSON file. This file is here just to give you a chance to work with loading a standard JSON file.\n",
        "\n",
        "\n",
        "### Uncompressed copy of 100 JSON-L lines\n",
        "\n",
        "**News_Category_Dataset_v2.100**\n",
        "\n",
        "This will give you a chance to work with Python's standard file opening, and to see in comparison how nicely the gzip module exposes an API for compressed files that works much like that for regular files.\n",
        "\n",
        "This file is just 100 lines to make it easier to work with this assignment. You will not be doing any kind of real analysis on this partial dataset.\n",
        "\n",
        "\n",
        "### Gzipped version of the full data file\n",
        "\n",
        "**News_Category_Dataset_v2.json.gz**\n",
        "\n",
        "Here, we have compressed the data file as a .gz file, rather than a .zip file. Gzip files are easier to work with in Python. If you are curious about archive and compression formats, check out [this article from itsfoss](https://itsfoss.com/tar-vs-zip-vs-gz/).\n",
        "\n",
        "\n",
        "---\n",
        "\n",
        "Before continuing, you will need to:\n",
        "\n",
        " * Download the files from the course assets\n",
        " * Upload them to the root of your Google Drive account"
      ],
      "metadata": {
        "id": "TBfUu_Sbwl78"
      }
    },
    {
      "cell_type": "markdown",
      "source": [
        "> ⤵️ **Before moving forward:** download the data files from the course assets and upload them to the root of your Google Drive."
      ],
      "metadata": {
        "id": "3AdsUpvLb9nO"
      }
    },
    {
      "cell_type": "markdown",
      "source": [
        "## Mount Google Drive"
      ],
      "metadata": {
        "id": "5SAy8i30ig9p"
      }
    },
    {
      "cell_type": "code",
      "source": [
        "from google.colab import drive\n",
        "drive.mount('/content/drive')"
      ],
      "metadata": {
        "id": "pW-WXUbFijkn"
      },
      "execution_count": null,
      "outputs": []
    },
    {
      "cell_type": "markdown",
      "source": [
        "## 🔨 Do the work\n",
        "\n",
        "You should now be ready to go. To complete the assignment:\n",
        "\n",
        " 1. Complete the implementation of the `read_json` function.\n",
        "\n",
        "    The function definition line is created for you below. Your job is to complete the function so that it works to specification.\n",
        "\n",
        "2. Write any exploratory and testing code only below the `/autograde` note.\n",
        "\n",
        "3. Download the completed notebook as a .py file:\n",
        "\n",
        "    File > Download > Download .py\n",
        "\n",
        "    ⚠️ The .ipynb file will not work with the grader. Be sure to download the .py file\n",
        "\n",
        "4. Submit the file to the Coursera grader for assessment."
      ],
      "metadata": {
        "id": "7Dowg24x1WEH"
      }
    },
    {
      "cell_type": "markdown",
      "source": [
        "### Complete the read_json function\n",
        "\n",
        "Implement a function called read_json which can read both standard JSON files as well as so-called JSON-L files (i.e. 1 JSON document per line). Files may be uncompressed (plain text) or compressed with gzip (indicated by a .gz file name)\n",
        "\n",
        " * .gz files should be opened with the [gzip open function](https://docs.python.org/3/library/gzip.html#gzip.open)\n",
        " * otherwise, the file should be opened with the [standard Python open function](https://docs.python.org/3/library/functions.html#open)\n",
        " * A standard json file is assumed unless `lines` is set to True, which means the file should be processed as JSON-L\n",
        " * The data of a JSON file should be returned as a Python dictionary\n",
        " * The data of a JSON-L file should be returned as a list of dictionaries."
      ],
      "metadata": {
        "id": "ECrsC9xV2cQ9"
      }
    },
    {
      "cell_type": "code",
      "execution_count": null,
      "metadata": {
        "id": "kP55Bnzgb7dE"
      },
      "outputs": [],
      "source": [
        "import gzip\n",
        "import json\n",
        "\n",
        "\n",
        "def read_json(filename, lines=False):\n",
        "    \"\"\"A function to load the data from various JSON file types.\n",
        "    Support should be included for reading both json, and json-L\n",
        "    formatted files, which may be uncompressed or gzip compressed\n",
        "    files.\n",
        "\n",
        "    JSON-L format is indicated by the `lines` parameter being set\n",
        "    to True.\n",
        "\n",
        "    Returns a dictionary for a json document, or a list of dictionaries\n",
        "    for a json-L document.\n",
        "    \"\"\"\n",
        "    pass\n",
        "    # TODO: open the file, load the data and return it as either\n",
        "    # a dictionary (for a json file with lines=False), or a list (for a json-l\n",
        "    # file with lines=True)\n",
        "\n",
        "    # Be sure to handle both uncompressed and gz-compressed files."
      ]
    },
    {
      "cell_type": "code",
      "source": [
        "#~~ /autograde # do not delete this code cell"
      ],
      "metadata": {
        "id": "RZyo9373az7b"
      },
      "execution_count": null,
      "outputs": []
    },
    {
      "cell_type": "markdown",
      "source": [
        "---\n",
        "### ⚠️  **Caution:** No arbitrary code above this line\n",
        "\n",
        "The only code written above should be the implementation of your graded function. For experimentation and testing, only add code below.\n",
        "\n",
        "---"
      ],
      "metadata": {
        "id": "a1rnxTS5riqs"
      }
    },
    {
      "cell_type": "markdown",
      "source": [
        "### Load a single data record"
      ],
      "metadata": {
        "id": "RhF-IgvocKd7"
      }
    },
    {
      "cell_type": "markdown",
      "source": [
        "The **_v2.1.json** version of the data file has just 1 data entry in it. It is structurally a valid JSON file, as opposed to the JSON-L format of the full data set. This is an uncompressed file."
      ],
      "metadata": {
        "id": "KVWM4tbAb8BR"
      }
    },
    {
      "cell_type": "code",
      "source": [
        "data1 = read_json(\"drive/MyDrive/News_Category_Dataset_v2.1.json\")\n",
        "data1"
      ],
      "metadata": {
        "id": "VbE-bdOyZcEB"
      },
      "execution_count": null,
      "outputs": []
    },
    {
      "cell_type": "markdown",
      "source": [
        "### Load a partial record set"
      ],
      "metadata": {
        "id": "GDIzc-4scPf1"
      }
    },
    {
      "cell_type": "markdown",
      "source": [
        "The **_v2.100.json** version of the file is a 100-line subset of the data. Because this is multiple records, like the full data set it is a JSON-L file rather than a pure JSON file. This file is uncompressed."
      ],
      "metadata": {
        "id": "PjrSuckxc215"
      }
    },
    {
      "cell_type": "code",
      "source": [
        "data100 = read_json(\"drive/MyDrive/News_Category_Dataset_v2.100.json\", lines=True)\n",
        "data100[0:3]"
      ],
      "metadata": {
        "id": "UJMTSVhoZPHv"
      },
      "execution_count": null,
      "outputs": []
    },
    {
      "cell_type": "markdown",
      "source": [
        "### Load the full record set"
      ],
      "metadata": {
        "id": "lbXNiT41eFeg"
      }
    },
    {
      "cell_type": "markdown",
      "source": [
        "This is a gzip compressed version of the data file that was originally distributed by Kaggle."
      ],
      "metadata": {
        "id": "WjErMVaHeKvB"
      }
    },
    {
      "cell_type": "code",
      "source": [
        "data = read_json(\"drive/MyDrive/News_Category_Dataset_v2.json.gz\", lines=True)\n",
        "data[0:3]"
      ],
      "metadata": {
        "id": "VNIoKZpSa0cm"
      },
      "execution_count": null,
      "outputs": []
    }
  ]
}