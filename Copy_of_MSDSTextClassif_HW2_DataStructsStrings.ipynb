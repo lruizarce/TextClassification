{
  "nbformat": 4,
  "nbformat_minor": 0,
  "metadata": {
    "colab": {
      "provenance": [],
      "include_colab_link": true
    },
    "kernelspec": {
      "name": "python3",
      "display_name": "Python 3"
    },
    "language_info": {
      "name": "python"
    }
  },
  "cells": [
    {
      "cell_type": "markdown",
      "metadata": {
        "id": "view-in-github",
        "colab_type": "text"
      },
      "source": [
        "<a href=\"https://colab.research.google.com/github/lruizarce/TextClassification/blob/main/Copy_of_MSDSTextClassif_HW2_DataStructsStrings.ipynb\" target=\"_parent\"><img src=\"https://colab.research.google.com/assets/colab-badge.svg\" alt=\"Open In Colab\"/></a>"
      ]
    },
    {
      "cell_type": "markdown",
      "source": [
        "# MSDS Text Classification. Assignment #2: Data Structures and Strings"
      ],
      "metadata": {
        "id": "OZXgMDSSqwy6"
      }
    },
    {
      "cell_type": "markdown",
      "source": [
        "## ⚡️ Make a Copy\n",
        "\n",
        "Save a copy of this notebook in your Google Drive before continuing. Be sure to edit your own copy, not the original notebook."
      ],
      "metadata": {
        "id": "yFwevZ5m3UAI"
      }
    },
    {
      "cell_type": "markdown",
      "source": [
        "## Overview"
      ],
      "metadata": {
        "id": "Xyl4i-xLrSJY"
      }
    },
    {
      "cell_type": "markdown",
      "source": [
        "### 🐍 Continuing Python skills assessment"
      ],
      "metadata": {
        "id": "yZU03hRGrWB7"
      }
    },
    {
      "cell_type": "markdown",
      "source": [
        "The goal here is to further assess your Python readiness for the course.\n",
        "\n",
        "> ⚠️  As mentioned in Assignment #1: If the work below is difficult for you, then you will want to be absolutely certain to go through the Python review materials before moving forward."
      ],
      "metadata": {
        "id": "uQjVUT4QsWcV"
      }
    },
    {
      "cell_type": "markdown",
      "source": [
        "### ☑️ Skill checks"
      ],
      "metadata": {
        "id": "4uPCsJ4UswiD"
      }
    },
    {
      "cell_type": "markdown",
      "source": [
        "We continue your Python skills assessment by evaluating the following abilities:\n",
        "\n",
        " * Write basic Python functions that meet specified requirements\n",
        " * Work with and manipulate Python data structures, particularly lists and dictionaries\n",
        " * Use Python control-flow constructs, particularly for-loops and if-statements\n",
        " * Manipulate Python strings\n",
        "\n"
      ],
      "metadata": {
        "id": "najjSBcMcLxb"
      }
    },
    {
      "cell_type": "markdown",
      "source": [
        "### 📝 Completing the assignment"
      ],
      "metadata": {
        "id": "sYkQTMJItz-i"
      }
    },
    {
      "cell_type": "markdown",
      "source": [
        "There are two function definitions below for you to complete. You will need to write the code to meet the function specifications, and submit the .py version of this notebook to the grader."
      ],
      "metadata": {
        "id": "lFeDG82Ct5vF"
      }
    },
    {
      "cell_type": "markdown",
      "source": [
        "> **⚠️  Don't code outside the lines.** Keep your function implementation code inside the function blocks. Be sure not to write any code above the `/autorade` delimiter other than the specified function code. Any experimentation or testing code should go below the `/autograde` indicator, and will be ignored by the grader."
      ],
      "metadata": {
        "id": "9mcZZUFIul4P"
      }
    },
    {
      "cell_type": "markdown",
      "source": [
        "## 🔨 Do the work\n",
        "\n",
        "To complete the assignment:\n",
        "\n",
        " 1. Complete the implementations of the `unique_values` and `summary` functions.\n",
        "\n",
        "    The function definition lines are created for you below. Your job is to complete the functions so that they work to specification.\n",
        "\n",
        "2. Write any exploratory and testing code only below the `/autograde` note.\n",
        "\n",
        "3. Download the completed notebook as a .py file:\n",
        "\n",
        "    File > Download > Download .py\n",
        "\n",
        "    ⚠️ The .ipynb file will not work with the grader. Be sure to download the .py file\n",
        "\n",
        "4. Submit the file to the Coursera grader for assessment."
      ],
      "metadata": {
        "id": "7Dowg24x1WEH"
      }
    },
    {
      "cell_type": "markdown",
      "source": [
        "### Complete the `unique_values` function"
      ],
      "metadata": {
        "id": "FlfL2_CN8wMh"
      }
    },
    {
      "cell_type": "code",
      "source": [
        "\n",
        "def unique_values(data, key):\n",
        "    \"\"\"Where `data` is a list of dictionaries which may or may\n",
        "    not contain the key specified by `key`.\n",
        "\n",
        "    Returns a list of the distinct item values for items keyed by\n",
        "    `key`. Skips any data entries that do not contain that key.\n",
        "\n",
        "    E.g.: Consider following data list:\n",
        "\n",
        "    data =[\n",
        "        { \"product_type\": \"shoes\", \"color\": \"red\" },\n",
        "        { \"product_type\": \"hats\", \"color\": \"blue\" },\n",
        "        { \"product_type\": \"shoes\", \"size\": \"large\" },\n",
        "        { \"product_type\": \"shoes\", \"color\": \"red\" }\n",
        "    ]\n",
        "\n",
        "    The response for the call unique_values(data, \"color\") would be:\n",
        "\n",
        "    [ \"red\", \"blue\" ]\n",
        "\n",
        "    Noting that \"red\" is only included 1 time, and that none of \"shoes\",\n",
        "    \"hats\", or \"large\" are values for which the key matches \"color\".\n",
        "    \"\"\"\n",
        "\n",
        "    # TODO: Implement this function to return a list of the unique items\n",
        "    #       in data keyed by key\n",
        "\n",
        "    uniqueVals = list(set())\n",
        "    for dicts in data:\n",
        "      if key in dicts:\n",
        "        uniqueVals.append(dicts[key])\n",
        "    return uniqueVals"
      ],
      "metadata": {
        "id": "Z9WA3xIgnqpU"
      },
      "execution_count": 33,
      "outputs": []
    },
    {
      "cell_type": "markdown",
      "source": [
        "## 📆 A note about date formatting in Python\n",
        "\n",
        "The standard library approach to parsing and formatting dates and times in Python is described in the [strftime() and strptime() Behavior](https://docs.python.org/3/library/datetime.html#strftime-and-strptime-behavior) section of the Python docs.\n",
        "\n",
        "### Parsing the date\n",
        "\n",
        "The [datetime.date.fromisoformat](https://docs.python.org/3/library/datetime.html#datetime.date.fromisoformat) function will make quick work of parsing the dates in the News Category dataset, which are in the ISO format of YYYY-MM-DD\n",
        "\n",
        "### Formatting the data\n",
        "\n",
        "Call the strftime(FORMAT) method of a parsed date object, with some specified FORMAT string to get a date string in the format you want. See the strftime formatting options (documentation linked above) for information about constructing a format string."
      ],
      "metadata": {
        "id": "h141DQG2jcjG"
      }
    },
    {
      "cell_type": "markdown",
      "source": [
        "### Complete the `summary` function"
      ],
      "metadata": {
        "id": "pUHpSPTd81Si"
      }
    },
    {
      "cell_type": "code",
      "source": [
        "from pandas.core.window.expanding import Expanding\n",
        "import datetime\n",
        "import pandas as pd\n",
        "\n",
        "\n",
        "\n",
        "def summary(data):\n",
        "    \"\"\"Returns a summary line of the data in a readable format.\n",
        "    \n",
        "    The string returned is of the format:\n",
        "    DATE. CATEGORY. HEADLINE\n",
        "\n",
        "    Where:\n",
        "\n",
        "        DATE: Abbreviated MONTH, YEAR format. E.g.: Jan 2022\n",
        "        CATEGORY: Title-cased format. E.g. CRIME becomes Crime\n",
        "        HEADLINE: The headline, truncated to 50 characters.\n",
        "    \n",
        "    Example:\n",
        "\n",
        "    {\n",
        "        'authors': 'Melissa Jeltsen',\n",
        "        'category': 'CRIME',\n",
        "        'date': '2018-05-26',\n",
        "        'headline': 'There Were 2 Mass Shootings In Texas Last Week, But Only 1 On TV',\n",
        "        'link': 'https://www.huffingtonpost.com/entry/texas-amanda-painter-mass-shooting_us_5b081ab4e4b0802d69caad89',\n",
        "        'short_description': 'She left her husband. He killed their children. Just another day in America.'\n",
        "    }\n",
        "\n",
        "    Returns:\n",
        "        \"May 2018. Crime. There Were 2 Mass Shootings In Texas Last Week, Bu\"\n",
        "\n",
        "    NOTE: some data items may not exist in the data, in which case they should be\n",
        "    treated as an empty string. A missing date should not result in any date\n",
        "    parsing errors.\n",
        "    \"\"\"\n",
        "    category = data.get(\"category\", \"\")\n",
        "    article_date = data.get(\"date\", \"\")\n",
        "    headline = data.get(\"headline\", \"\")\n",
        "\n",
        "    # TODO: Use the assigned variables above to complete this function and\n",
        "    #       return a properly formatted summary string.\n",
        "    month = ''\n",
        "    year = ''\n",
        "    cat = ''\n",
        "    head = ''\n",
        "    \n",
        "    if article_date:\n",
        "        month = pd.to_datetime(article_date).strftime('%b')\n",
        "        year = pd.to_datetime(article_date).strftime('%Y')\n",
        "\n",
        "    if category:\n",
        "        cat = category.title()\n",
        "\n",
        "    if headline:\n",
        "        head = headline[:50]\n",
        "\n",
        "    return f\"{month} {year}. {cat}. {head}\"\n",
        "      "
      ],
      "metadata": {
        "id": "YbyjGchbxMN8"
      },
      "execution_count": 48,
      "outputs": []
    },
    {
      "cell_type": "code",
      "source": [
        "#~~ /autograde # do not delete this code cell"
      ],
      "metadata": {
        "id": "RZyo9373az7b"
      },
      "execution_count": 49,
      "outputs": []
    },
    {
      "cell_type": "markdown",
      "source": [
        "---\n",
        "### ⚠️  **Caution:** No arbitrary code above this line\n",
        "\n",
        "The only code written above should be the implementation of your graded \n",
        "function. For experimentation and testing, only add code below.\n",
        "\n",
        "---"
      ],
      "metadata": {
        "id": "a1rnxTS5riqs"
      }
    },
    {
      "cell_type": "code",
      "source": [
        "data = {\n",
        "    'authors': 'Melissa Jeltsen',\n",
        "    'category': 'CRIME',\n",
        "    'date': '2018-05-26',\n",
        "    'headline': 'There Were 2 Mass Shootings In Texas Last Week, But Only 1 On TV',\n",
        "    'link': 'https://www.huffingtonpost.com/entry/texas-amanda-painter-mass-shooting_us_5b081ab4e4b0802d69caad89',\n",
        "    'short_description': 'She left her husband. He killed their children. Just another day in America.'\n",
        "}"
      ],
      "metadata": {
        "id": "IBiuhtX988gC"
      },
      "execution_count": 50,
      "outputs": []
    },
    {
      "cell_type": "markdown",
      "source": [
        "> 💡  Here we test `unique_values` on a list with just one item. Consider pasting in your `read_json` function from Assignment #1 in order to load and extract unique values from a larger set of data. Alternatively, simply create your own list of data items to test."
      ],
      "metadata": {
        "id": "JFo7rhS0pY43"
      }
    },
    {
      "cell_type": "code",
      "source": [
        "unique_values([data], \"category\") # Note that we must pass in a list"
      ],
      "metadata": {
        "id": "qb917bVN9HVT",
        "colab": {
          "base_uri": "https://localhost:8080/"
        },
        "outputId": "e6707314-cc16-42e0-a8b9-539e1e83948e"
      },
      "execution_count": 51,
      "outputs": [
        {
          "output_type": "execute_result",
          "data": {
            "text/plain": [
              "['CRIME']"
            ]
          },
          "metadata": {},
          "execution_count": 51
        }
      ]
    },
    {
      "cell_type": "code",
      "source": [
        "summary(data)"
      ],
      "metadata": {
        "id": "esdk3Rec9LP8",
        "colab": {
          "base_uri": "https://localhost:8080/",
          "height": 35
        },
        "outputId": "5d223be5-adfd-466a-e690-3ce165076fc1"
      },
      "execution_count": 52,
      "outputs": [
        {
          "output_type": "execute_result",
          "data": {
            "text/plain": [
              "'May 2018. Crime. There Were 2 Mass Shootings In Texas Last Week, Bu'"
            ],
            "application/vnd.google.colaboratory.intrinsic+json": {
              "type": "string"
            }
          },
          "metadata": {},
          "execution_count": 52
        }
      ]
    },
    {
      "cell_type": "code",
      "source": [],
      "metadata": {
        "id": "oNFDTPaNoMNh"
      },
      "execution_count": null,
      "outputs": []
    }
  ]
}